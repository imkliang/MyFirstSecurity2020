{
  "nbformat": 4,
  "nbformat_minor": 0,
  "metadata": {
    "colab": {
      "name": "sean0804.ipynb",
      "provenance": [],
      "authorship_tag": "ABX9TyNercIidV79Kmckzj41wz17",
      "include_colab_link": true
    },
    "kernelspec": {
      "name": "python3",
      "display_name": "Python 3"
    }
  },
  "cells": [
    {
      "cell_type": "markdown",
      "metadata": {
        "id": "view-in-github",
        "colab_type": "text"
      },
      "source": [
        "<a href=\"https://colab.research.google.com/github/imkliang/MyFirstSecurity2020/blob/master/sean0804.ipynb\" target=\"_parent\"><img src=\"https://colab.research.google.com/assets/colab-badge.svg\" alt=\"Open In Colab\"/></a>"
      ]
    },
    {
      "cell_type": "code",
      "metadata": {
        "id": "PXhS6bRM87GE",
        "colab_type": "code",
        "colab": {
          "base_uri": "https://localhost:8080/",
          "height": 34
        },
        "outputId": "60eb9167-4067-4683-c17d-a41b07d1730b"
      },
      "source": [
        "#!/usr/bin/python\n",
        "\n",
        "c = '66 114 101 97 107 65 76 76 67 84 70 123 65 109 118 48 117 68 121 101 114 118 80 116 109 86 114 57 83 83 83 75 125'\n",
        "\n",
        "flag = \"\"\n",
        "\n",
        "for x in c.split(' '):\n",
        "  flag += chr(int(x))\n",
        "\n",
        "print(flag)"
      ],
      "execution_count": null,
      "outputs": [
        {
          "output_type": "stream",
          "text": [
            "BreakALLCTF{Amv0uDyervPtmVr9SSSK}\n"
          ],
          "name": "stdout"
        }
      ]
    }
  ]
}