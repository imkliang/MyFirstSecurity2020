{
  "nbformat": 4,
  "nbformat_minor": 0,
  "metadata": {
    "colab": {
      "name": " caesar密碼:加密法與暴力破解法.ipynb",
      "provenance": [],
      "authorship_tag": "ABX9TyNLQ02cPgBVL3FFodP3XV+x",
      "include_colab_link": true
    },
    "kernelspec": {
      "name": "python3",
      "display_name": "Python 3"
    }
  },
  "cells": [
    {
      "cell_type": "markdown",
      "metadata": {
        "id": "view-in-github",
        "colab_type": "text"
      },
      "source": [
        "<a href=\"https://colab.research.google.com/github/imkliang/MyFirstSecurity2020/blob/master/caesar%E5%AF%86%E7%A2%BC_%E5%8A%A0%E5%AF%86%E6%B3%95%E8%88%87%E6%9A%B4%E5%8A%9B%E7%A0%B4%E8%A7%A3%E6%B3%95.ipynb\" target=\"_parent\"><img src=\"https://colab.research.google.com/assets/colab-badge.svg\" alt=\"Open In Colab\"/></a>"
      ]
    },
    {
      "cell_type": "code",
      "metadata": {
        "id": "roWQgpGHGE18",
        "colab_type": "code",
        "colab": {
          "base_uri": "https://localhost:8080/",
          "height": 629
        },
        "outputId": "15f2db2c-2c68-4325-e5fe-8eb8d83d6fff"
      },
      "source": [
        "import string\n",
        "\n",
        "caesaralpha = \"abcdefghijklmnopqrstuvwxyz0123456789\"\n",
        "\n",
        "def caesar(input_string,rot) :\n",
        "    output_string = \"\"\n",
        "    for i in range(len(input_string)):\n",
        "        if input_string[i].isalnum():\n",
        "            idx = (caesaralpha.find(input_string[i]) + rot) % len(caesaralpha)\n",
        "            output_string += caesaralpha[idx]\n",
        "        else:\n",
        "            output_string += input_string[i]\n",
        "    return output_string\n",
        "\n",
        "enc = '7sj-ighm-742q3w4t' # encrypt data\n",
        "\n",
        "for i in range(len(caesaralpha)):\n",
        "    print(caesar(enc, i))\n",
        "   \n",
        "   "
      ],
      "execution_count": null,
      "outputs": [
        {
          "output_type": "stream",
          "text": [
            "7sj-ighm-742q3w4t\n",
            "8tk-jhin-853r4x5u\n",
            "9ul-kijo-964s5y6v\n",
            "avm-ljkp-a75t6z7w\n",
            "bwn-mklq-b86u708x\n",
            "cxo-nlmr-c97v819y\n",
            "dyp-omns-da8w92az\n",
            "ezq-pnot-eb9xa3b0\n",
            "f0r-qopu-fcayb4c1\n",
            "g1s-rpqv-gdbzc5d2\n",
            "h2t-sqrw-hec0d6e3\n",
            "i3u-trsx-ifd1e7f4\n",
            "j4v-usty-jge2f8g5\n",
            "k5w-vtuz-khf3g9h6\n",
            "l6x-wuv0-lig4hai7\n",
            "m7y-xvw1-mjh5ibj8\n",
            "n8z-ywx2-nki6jck9\n",
            "o90-zxy3-olj7kdla\n",
            "pa1-0yz4-pmk8lemb\n",
            "qb2-1z05-qnl9mfnc\n",
            "rc3-2016-romangod\n",
            "sd4-3127-spnbohpe\n",
            "te5-4238-tqocpiqf\n",
            "uf6-5349-urpdqjrg\n",
            "vg7-645a-vsqerksh\n",
            "wh8-756b-wtrfslti\n",
            "xi9-867c-xusgtmuj\n",
            "yja-978d-yvthunvk\n",
            "zkb-a89e-zwuivowl\n",
            "0lc-b9af-0xvjwpxm\n",
            "1md-cabg-1ywkxqyn\n",
            "2ne-dbch-2zxlyrzo\n",
            "3of-ecdi-30ymzs0p\n",
            "4pg-fdej-41zn0t1q\n",
            "5qh-gefk-520o1u2r\n",
            "6ri-hfgl-631p2v3s\n"
          ],
          "name": "stdout"
        }
      ]
    },
    {
      "cell_type": "code",
      "metadata": {
        "id": "aWUceObHIM8r",
        "colab_type": "code",
        "colab": {
          "base_uri": "https://localhost:8080/",
          "height": 35
        },
        "outputId": "b969f87e-ca36-43f8-ac9f-0cfb75efd761"
      },
      "source": [
        " 'rc3-2016-romangod'.upper()"
      ],
      "execution_count": null,
      "outputs": [
        {
          "output_type": "execute_result",
          "data": {
            "application/vnd.google.colaboratory.intrinsic+json": {
              "type": "string"
            },
            "text/plain": [
              "'RC3-2016-ROMANGOD'"
            ]
          },
          "metadata": {
            "tags": []
          },
          "execution_count": 8
        }
      ]
    }
  ]
}